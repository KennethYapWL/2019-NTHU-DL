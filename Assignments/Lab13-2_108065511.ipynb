{
 "cells": [
  {
   "cell_type": "code",
   "execution_count": 1,
   "metadata": {},
   "outputs": [],
   "source": [
    "import numpy as np\n",
    "import pandas as pd\n",
    "import string\n",
    "import os\n",
    "\n",
    "import tensorflow as tf\n",
    "from tensorflow.keras import utils, datasets, layers, models, optimizers\n",
    "from tensorflow.keras.callbacks import ModelCheckpoint, Callback"
   ]
  },
  {
   "cell_type": "code",
   "execution_count": 2,
   "metadata": {},
   "outputs": [
    {
     "name": "stdout",
     "output_type": "stream",
     "text": [
      "2 Physical GPUs, 1 Logical GPUs\n"
     ]
    }
   ],
   "source": [
    "gpus = tf.config.experimental.list_physical_devices('GPU')\n",
    "if gpus:\n",
    "    try:\n",
    "        # Restrict TensorFlow to only use the fourth GPU\n",
    "        tf.config.experimental.set_visible_devices(gpus[0], 'GPU')\n",
    "\n",
    "        # Currently, memory growth needs to be the same across GPUs\n",
    "        for gpu in gpus:\n",
    "            tf.config.experimental.set_memory_growth(gpu, True)\n",
    "        logical_gpus = tf.config.experimental.list_logical_devices('GPU')\n",
    "        print(len(gpus), \"Physical GPUs,\", len(logical_gpus), \"Logical GPUs\")\n",
    "    except RuntimeError as e:\n",
    "        # Memory growth must be set before GPUs have been initialized\n",
    "        print(e)"
   ]
  },
  {
   "cell_type": "code",
   "execution_count": 3,
   "metadata": {},
   "outputs": [],
   "source": [
    "def create_simpleCnnRnn(image_shape, max_caption_len,vocab_size):\n",
    "    image_model = models.Sequential()\n",
    "    # image_shape : C,W,H\n",
    "    # input: 100x100 images with 3 channels -> (3, 100, 100) tensors.\n",
    "    # this applies 32 convolution filters of size 3x3 each.\n",
    "    #32, (3, 3), activation='relu', input_shape=(28, 28, 1)\n",
    "    image_model.add(layers.Conv2D(32, (3, 3), activation='relu', input_shape=image_shape))\n",
    "    #print('fff')\n",
    "    image_model.add(layers.BatchNormalization())\n",
    "    image_model.add(layers.Activation('relu'))\n",
    "    image_model.add(layers.Conv2D(32, (3, 3)))\n",
    "    image_model.add(layers.BatchNormalization())\n",
    "    image_model.add(layers.Activation('relu'))\n",
    "    image_model.add(layers.MaxPooling2D(pool_size=(2, 2)))\n",
    "    image_model.add(layers.Dropout(0.25))\n",
    "    image_model.add(layers.Conv2D(64, (3, 3), activation='relu'))\n",
    "    image_model.add(layers.BatchNormalization())\n",
    "    image_model.add(layers.Activation('relu'))\n",
    "    image_model.add(layers.Conv2D(64, (3, 3)))\n",
    "    image_model.add(layers.BatchNormalization())\n",
    "    image_model.add(layers.Activation('relu'))\n",
    "    image_model.add(layers.MaxPooling2D(pool_size=(2, 2)))\n",
    "    image_model.add(layers.Dropout(0.25))\n",
    "    image_model.add(layers.Flatten())\n",
    "    # Note: Keras does automatic shape inference.\n",
    "    image_model.add(layers.Dense(128))\n",
    "    image_model.add(layers.RepeatVector(max_caption_len)) # 复制8份\n",
    "    image_model.add(layers.Bidirectional(layers.GRU(units=128, return_sequences=True)))\n",
    "    image_model.add(layers.TimeDistributed(layers.Dense(vocab_size)))\n",
    "    image_model.add(layers.Activation('softmax'))\n",
    "    sgd = optimizers.SGD(lr=0.002, decay=1e-6, momentum=0.9, nesterov=True)\n",
    "    image_model.compile(loss='categorical_crossentropy', optimizer=sgd, metrics=['accuracy'])\n",
    "    return image_model"
   ]
  },
  {
   "cell_type": "code",
   "execution_count": 4,
   "metadata": {},
   "outputs": [],
   "source": [
    "with open('./words_captcha/spec_train_val.txt', 'r') as file:\n",
    "    datasets = file.read().split('\\n')"
   ]
  },
  {
   "cell_type": "code",
   "execution_count": 5,
   "metadata": {},
   "outputs": [
    {
     "name": "stdout",
     "output_type": "stream",
     "text": [
      "maxCharNum: 5\n"
     ]
    },
    {
     "data": {
      "text/plain": [
       "(120000, 120000)"
      ]
     },
     "execution_count": 5,
     "metadata": {},
     "output_type": "execute_result"
    }
   ],
   "source": [
    "X_fName = []\n",
    "X_text = []\n",
    "maxCharNum = 0\n",
    "\n",
    "for data in datasets:\n",
    "    if data == '':\n",
    "        continue\n",
    "    pair = data.split(' ')\n",
    "    X_fName.append(pair[0])\n",
    "    X_text.append(pair[1])\n",
    "    \n",
    "    if (len(pair[1]) > maxCharNum):\n",
    "        maxCharNum = len(pair[1])\n",
    "\n",
    "print('maxCharNum: ' + str(maxCharNum))\n",
    "len(X_fName), len(X_text)"
   ]
  },
  {
   "cell_type": "code",
   "execution_count": 6,
   "metadata": {},
   "outputs": [
    {
     "name": "stdout",
     "output_type": "stream",
     "text": [
      "2\n",
      "120000\n"
     ]
    }
   ],
   "source": [
    "X_df = []\n",
    "X_df.append(X_fName)\n",
    "X_df.append(X_text)\n",
    "\n",
    "print(len(X_df))\n",
    "X_df = list(map(list, zip(*X_df)))\n",
    "print(len(X_df))"
   ]
  },
  {
   "cell_type": "code",
   "execution_count": 7,
   "metadata": {},
   "outputs": [
    {
     "data": {
      "text/plain": [
       "(120000, 2)"
      ]
     },
     "metadata": {},
     "output_type": "display_data"
    },
    {
     "data": {
      "text/html": [
       "<div>\n",
       "<style scoped>\n",
       "    .dataframe tbody tr th:only-of-type {\n",
       "        vertical-align: middle;\n",
       "    }\n",
       "\n",
       "    .dataframe tbody tr th {\n",
       "        vertical-align: top;\n",
       "    }\n",
       "\n",
       "    .dataframe thead th {\n",
       "        text-align: right;\n",
       "    }\n",
       "</style>\n",
       "<table border=\"1\" class=\"dataframe\">\n",
       "  <thead>\n",
       "    <tr style=\"text-align: right;\">\n",
       "      <th></th>\n",
       "      <th>filename</th>\n",
       "      <th>text</th>\n",
       "    </tr>\n",
       "  </thead>\n",
       "  <tbody>\n",
       "    <tr>\n",
       "      <th>0</th>\n",
       "      <td>a0</td>\n",
       "      <td>thus</td>\n",
       "    </tr>\n",
       "    <tr>\n",
       "      <th>1</th>\n",
       "      <td>a1</td>\n",
       "      <td>www</td>\n",
       "    </tr>\n",
       "    <tr>\n",
       "      <th>2</th>\n",
       "      <td>a2</td>\n",
       "      <td>tied</td>\n",
       "    </tr>\n",
       "  </tbody>\n",
       "</table>\n",
       "</div>"
      ],
      "text/plain": [
       "  filename  text\n",
       "0       a0  thus\n",
       "1       a1   www\n",
       "2       a2  tied"
      ]
     },
     "execution_count": 7,
     "metadata": {},
     "output_type": "execute_result"
    }
   ],
   "source": [
    "df_ALL = pd.DataFrame(data = X_df, columns = ['filename', 'text'])\n",
    "display(df_ALL.shape)\n",
    "df_ALL.head(3)"
   ]
  },
  {
   "cell_type": "code",
   "execution_count": 8,
   "metadata": {},
   "outputs": [],
   "source": [
    "dict_Char = dict()\n",
    "charList = list(string.ascii_lowercase)\n",
    "idx = -1\n",
    "\n",
    "for char in charList:\n",
    "    idx += 1\n",
    "    alpha = np.array([0]*27)\n",
    "    alpha[idx] = 1\n",
    "    dict_Char[char] = alpha"
   ]
  },
  {
   "cell_type": "code",
   "execution_count": 9,
   "metadata": {},
   "outputs": [],
   "source": [
    "X_text = df_ALL['text'].values.copy()\n",
    "X_label = []\n",
    "X_label_matr = []\n",
    "\n",
    "for i in range(len(X_text)):\n",
    "    word = X_text[i]\n",
    "    label = []\n",
    "    \n",
    "    for j in range(5):\n",
    "        if j < len(word):\n",
    "            label.append(dict_Char[word[j]])\n",
    "        else:\n",
    "            alphaEnd = [0]*27\n",
    "            alphaEnd[-1] = 1\n",
    "            label.append(alphaEnd)\n",
    "            \n",
    "    X_label.append(str(label))\n",
    "    X_label_matr.append(label)\n",
    "            \n",
    "df_ALL['label'] = pd.DataFrame(data = X_label)        "
   ]
  },
  {
   "cell_type": "code",
   "execution_count": 10,
   "metadata": {},
   "outputs": [
    {
     "data": {
      "text/html": [
       "<div>\n",
       "<style scoped>\n",
       "    .dataframe tbody tr th:only-of-type {\n",
       "        vertical-align: middle;\n",
       "    }\n",
       "\n",
       "    .dataframe tbody tr th {\n",
       "        vertical-align: top;\n",
       "    }\n",
       "\n",
       "    .dataframe thead th {\n",
       "        text-align: right;\n",
       "    }\n",
       "</style>\n",
       "<table border=\"1\" class=\"dataframe\">\n",
       "  <thead>\n",
       "    <tr style=\"text-align: right;\">\n",
       "      <th></th>\n",
       "      <th>filename</th>\n",
       "      <th>text</th>\n",
       "      <th>label</th>\n",
       "    </tr>\n",
       "  </thead>\n",
       "  <tbody>\n",
       "    <tr>\n",
       "      <th>0</th>\n",
       "      <td>a0</td>\n",
       "      <td>thus</td>\n",
       "      <td>[array([0, 0, 0, 0, 0, 0, 0, 0, 0, 0, 0, 0, 0,...</td>\n",
       "    </tr>\n",
       "    <tr>\n",
       "      <th>1</th>\n",
       "      <td>a1</td>\n",
       "      <td>www</td>\n",
       "      <td>[array([0, 0, 0, 0, 0, 0, 0, 0, 0, 0, 0, 0, 0,...</td>\n",
       "    </tr>\n",
       "    <tr>\n",
       "      <th>2</th>\n",
       "      <td>a2</td>\n",
       "      <td>tied</td>\n",
       "      <td>[array([0, 0, 0, 0, 0, 0, 0, 0, 0, 0, 0, 0, 0,...</td>\n",
       "    </tr>\n",
       "  </tbody>\n",
       "</table>\n",
       "</div>"
      ],
      "text/plain": [
       "  filename  text                                              label\n",
       "0       a0  thus  [array([0, 0, 0, 0, 0, 0, 0, 0, 0, 0, 0, 0, 0,...\n",
       "1       a1   www  [array([0, 0, 0, 0, 0, 0, 0, 0, 0, 0, 0, 0, 0,...\n",
       "2       a2  tied  [array([0, 0, 0, 0, 0, 0, 0, 0, 0, 0, 0, 0, 0,..."
      ]
     },
     "execution_count": 10,
     "metadata": {},
     "output_type": "execute_result"
    }
   ],
   "source": [
    "df_ALL.head(3)"
   ]
  },
  {
   "cell_type": "code",
   "execution_count": 11,
   "metadata": {},
   "outputs": [],
   "source": [
    "X_grayScale = []\n",
    "X_fName = df_ALL['filename'].values\n",
    "_dir = './words_captcha/'\n",
    "\n",
    "for fn in X_fName:\n",
    "    img = tf.io.read_file(_dir + fn + '.png')\n",
    "    img = tf.image.decode_jpeg(img, channels=1)\n",
    "    img = tf.image.resize(img, (80, 150))\n",
    "    \n",
    "    X_grayScale.append(img)\n",
    "    del img"
   ]
  },
  {
   "cell_type": "code",
   "execution_count": 12,
   "metadata": {},
   "outputs": [],
   "source": [
    "if not os.path.isdir('checkpoints'):\n",
    "    os.mkdir('checkpoints')\n",
    "    \n",
    "model_output = \"./checkpoints/\"\n",
    "check_pointer = ModelCheckpoint(filepath=model_output + \"weights.{epoch:02d}.hdf5\")"
   ]
  },
  {
   "cell_type": "code",
   "execution_count": 13,
   "metadata": {},
   "outputs": [
    {
     "data": {
      "text/plain": [
       "TensorShape([80, 150, 1])"
      ]
     },
     "execution_count": 13,
     "metadata": {},
     "output_type": "execute_result"
    }
   ],
   "source": [
    "X_grayScale[0].shape"
   ]
  },
  {
   "cell_type": "code",
   "execution_count": null,
   "metadata": {},
   "outputs": [],
   "source": [
    "X_grayScale = np.array(X_grayScale)"
   ]
  },
  {
   "cell_type": "code",
   "execution_count": null,
   "metadata": {},
   "outputs": [],
   "source": [
    "X_label_matr = np.array(X_label_matr)"
   ]
  },
  {
   "cell_type": "code",
   "execution_count": null,
   "metadata": {},
   "outputs": [],
   "source": [
    "X_train = X_grayScale[:100000]\n",
    "X_valid = X_grayScale[100000:120000]\n",
    "X_test = X_grayScale[120000:]\n",
    "\n",
    "y_train = X_label_matr[:100000]\n",
    "y_valid = X_label_matr[100000:120000]\n",
    "y_truth = X_label_matr[120000:]"
   ]
  },
  {
   "cell_type": "code",
   "execution_count": null,
   "metadata": {},
   "outputs": [],
   "source": [
    "type(X_train)"
   ]
  },
  {
   "cell_type": "code",
   "execution_count": null,
   "metadata": {},
   "outputs": [],
   "source": [
    "image_model = create_simpleCnnRnn((80, 150, 1), 5, 27)\n",
    "image_model.fit(X_train, y_train, batch_size=16, nb_epoch=100)"
   ]
  },
  {
   "cell_type": "code",
   "execution_count": null,
   "metadata": {},
   "outputs": [],
   "source": [
    "y_truth = df_ALL['text'].values"
   ]
  },
  {
   "cell_type": "code",
   "execution_count": null,
   "metadata": {},
   "outputs": [],
   "source": [
    "def getKey(DICT, sval):\n",
    "    for key, val in DICT.items():    # for name, age in dictionary.iteritems():  (for Python 2.x)\n",
    "        if val == sval:\n",
    "            return key"
   ]
  },
  {
   "cell_type": "code",
   "execution_count": null,
   "metadata": {},
   "outputs": [],
   "source": [
    "y_pred_valid = image_model.predict(X_valid)\n",
    "y_pred_valid_label = []\n",
    "\n",
    "alphaEnd = [0]*27\n",
    "alphaEnd[-1] = 1\n",
    "for pred in y_pred_valid:\n",
    "    char = ''\n",
    "    for i in range(len(pred)):\n",
    "        if pred[i] == alphaEnd:\n",
    "            break\n",
    "        else:\n",
    "            char += getKey(dict_Char, pred[i])\n",
    "            \n",
    "    y_pred_valid_label.append(char)\n",
    "        \n",
    "y_pred_valid_label = np.array(y_pred_valid_label)"
   ]
  },
  {
   "cell_type": "code",
   "execution_count": null,
   "metadata": {},
   "outputs": [],
   "source": [
    "from sklearn.metrics import accuracy_score\n",
    "print('Validation Accuracy: %.2f' % accuracy_score(y_truth[100000:120000], y_pred_valid_label))"
   ]
  },
  {
   "cell_type": "code",
   "execution_count": null,
   "metadata": {},
   "outputs": [],
   "source": [
    "y_pred = image_model.predict(X_test)\n",
    "y_pred_label = []\n",
    "\n",
    "alphaEnd = [0]*27\n",
    "alphaEnd[-1] = 1\n",
    "for pred in y_pred:\n",
    "    char = ''\n",
    "    for i in range(len(pred)):\n",
    "        if pred[i] == alphaEnd:\n",
    "            break\n",
    "        else:\n",
    "            char += getKey(dict_Char, pred[i])\n",
    "            \n",
    "    y_pred_label.append(char)\n",
    "        \n",
    "y_pred_label = np.array(y_pred_label)"
   ]
  },
  {
   "cell_type": "code",
   "execution_count": null,
   "metadata": {},
   "outputs": [],
   "source": [
    "print('Validation Accuracy: %.2f' % accuracy_score(y_truth[120000:], y_pred_label))"
   ]
  },
  {
   "cell_type": "code",
   "execution_count": null,
   "metadata": {},
   "outputs": [],
   "source": [
    "X_fileNames = df_ALL['filename'].values\n",
    "X_test_fileNames = X_fileNames[120000:]\n",
    "\n",
    "len(X_test_fileNames), len(y_pred_label)"
   ]
  },
  {
   "cell_type": "code",
   "execution_count": null,
   "metadata": {},
   "outputs": [],
   "source": [
    "if not os.path.isdir('./output'):\n",
    "    os.mkdir('./output')\n",
    "\n",
    "f = open('./output/res.txt', 'w').close()\n",
    "    \n",
    "with open('./output/res.txt', 'a') as file:\n",
    "    for i in range(len(X_test_fileNames)):\n",
    "        file.write(str(X_test_fileNames[i]) + ' \\t ' + str(y_pred_label[i]) + '\\n')"
   ]
  },
  {
   "cell_type": "code",
   "execution_count": null,
   "metadata": {},
   "outputs": [],
   "source": []
  }
 ],
 "metadata": {
  "kernelspec": {
   "display_name": "Python 3",
   "language": "python",
   "name": "python3"
  },
  "language_info": {
   "codemirror_mode": {
    "name": "ipython",
    "version": 3
   },
   "file_extension": ".py",
   "mimetype": "text/x-python",
   "name": "python",
   "nbconvert_exporter": "python",
   "pygments_lexer": "ipython3",
   "version": "3.6.8"
  }
 },
 "nbformat": 4,
 "nbformat_minor": 2
}
